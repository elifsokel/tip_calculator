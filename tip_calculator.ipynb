{
 "cells": [
  {
   "cell_type": "code",
   "execution_count": 19,
   "metadata": {},
   "outputs": [
    {
     "name": "stdout",
     "output_type": "stream",
     "text": [
      "Welcome to the tip calculator!\n",
      "164.75\n",
      "12\n",
      "6\n",
      "Each person should pay: $30.75\n"
     ]
    }
   ],
   "source": [
    "print(\"Welcome to the tip calculator!\")\n",
    "bill = float(input(\"What was the total bill? $\"))\n",
    "print(bill)\n",
    "tip = int(input(\"What percentage tip would you like to give? 10, 12 or 15? \"))\n",
    "print(tip)\n",
    "people = int(input(\"How many people to split the bill? \"))\n",
    "print(people)\n",
    "bill_with_tip = tip / 100 * bill + bill\n",
    "bill_per_person = bill_with_tip / people\n",
    "final_amount = round(bill_per_person, 2 )\n",
    "print(f\"Each person should pay: ${final_amount}\")"
   ]
  }
 ],
 "metadata": {
  "kernelspec": {
   "display_name": "Python 3",
   "language": "python",
   "name": "python3"
  },
  "language_info": {
   "codemirror_mode": {
    "name": "ipython",
    "version": 3
   },
   "file_extension": ".py",
   "mimetype": "text/x-python",
   "name": "python",
   "nbconvert_exporter": "python",
   "pygments_lexer": "ipython3",
   "version": "3.11.0"
  },
  "orig_nbformat": 4
 },
 "nbformat": 4,
 "nbformat_minor": 2
}
